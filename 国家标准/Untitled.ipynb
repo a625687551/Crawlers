{
 "cells": [
  {
   "cell_type": "code",
   "execution_count": 14,
   "metadata": {
    "collapsed": true
   },
   "outputs": [],
   "source": [
    "import requests\n",
    "from bs4 import BeautifulSoup\n",
    "import pandas as pd\n",
    "import re\n",
    "import json\n",
    "import time\n",
    "from sqlalchemy import create_engine\n",
    "from selenium import webdriver"
   ]
  },
  {
   "cell_type": "code",
   "execution_count": 15,
   "metadata": {
    "collapsed": true
   },
   "outputs": [],
   "source": [
    "url ='http://www.spc.org.cn/gb168/online/GB%252017930-2013/?lang=zh_CN&text='\n",
    "user_agent = 'Mozilla/5.0 (Windows NT 6.1; WOW64) AppleWebKit/537.36 (KHTML, like Gecko) ' \\\n",
    "             'Chrome/54.0.2840.99 Safari/537.36'\n",
    "headers = {'User-Agent': user_agent,\n",
    "           'Referer': 'http:/www.sac.gov.cn'}"
   ]
  },
  {
   "cell_type": "code",
   "execution_count": 16,
   "metadata": {
    "collapsed": false
   },
   "outputs": [],
   "source": [
    "web_data=requests.get(url,headers=headers)"
   ]
  },
  {
   "cell_type": "code",
   "execution_count": 37,
   "metadata": {
    "collapsed": false
   },
   "outputs": [],
   "source": [
    "soup=BeautifulSoup(web_data.text,'html.parser')\n"
   ]
  },
  {
   "cell_type": "code",
   "execution_count": 36,
   "metadata": {
    "collapsed": false,
    "scrolled": true
   },
   "outputs": [
    {
     "name": "stdout",
     "output_type": "stream",
     "text": [
      "[<ul class=\"detailedinfo-content-collapse\">\n",
      "<li><p>标准号：</p><span id=\"standard_code\">GB 17930-2013</span></li>\n",
      "<li><p>标准名称：</p><span id=\"standard_name\">车用汽油</span></li>\n",
      "<li><p>英文名称：</p><span>Gasoline for motor vehicles</span></li>\n",
      "<li><p>标准状态：</p><span>现行</span></li>\n",
      "<li><p>首发日期：</p><span>1999-12-28</span></li>\n",
      "<li><p>发布日期：</p><span>2013-12-18</span></li>\n",
      "<li><p>实施日期：</p><span>2013-12-18</span></li>\n",
      "<li><p>出版语种：</p><span>中文简体</span></li>\n",
      "</ul>, <ul class=\"detailedinfo-content-collapse\">\n",
      "<li><p>标准ICS号：</p><span>75.160.20</span></li>\n",
      "<li><p>中标分类号：</p><span>E31</span></li>\n",
      "</ul>, <ul class=\"detailedinfo-content-collapse\">\n",
      "<li><p>替代以下标准：</p><span id=\"a461\"></span></li>\n",
      "<li><p>被以下标准替代：</p><span id=\"a462\"></span></li>\n",
      "<li><p>引用标准：</p><span id=\"referStandno\"></span></li>\n",
      "<li><p>采用标准：</p><span id=\"adoptNo\"></span></li>\n",
      "<li><p>采标名称：</p><span></span></li>\n",
      "<li><p>采标程度：</p><span></span></li>\n",
      "</ul>, <ul class=\"detailedinfo-content-collapse\">\n",
      "<li><p>页数：</p><span>12 页</span></li>\n",
      "<li><p>字数：</p><span>18 千字</span></li>\n",
      "<li><p>开本：</p><span>大16 开</span></li>\n",
      "<li><p>版次：</p><span>1</span></li>\n",
      "<li><p>彩页数：</p><span>0</span></li>\n",
      "<li><p>插页数：</p><span>0</span></li>\n",
      "<li><p>有无电子版：</p><span>有</span></li>\n",
      "<li><p>有无彩色图片：</p><span>无</span></li>\n",
      "<li><p>纸质版出版日期：</p><span>2013-12-18</span></li>\n",
      "</ul>, <ul class=\"detailedinfo-content-collapse\">\n",
      "<li><p>有无修改单：</p><span>无</span></li>\n",
      "<li><p>修改单备注：</p><span></span></li>\n",
      "</ul>, <ul class=\"detailedinfo-content-collapse\">\n",
      "<li><p>标准类型：</p><span>CN</span></li>\n",
      "<li><p>标准属性：</p><span>GB</span></li>\n",
      "<li><p>标准编号：</p><span>17930</span></li>\n",
      "<li><p>起草人：</p><span>倪蓓、龙军、李文乐、张建荣、张彦、陆红雨、郭莘、陈效红、张永光、顾惠明、王治春、王琳、陈延、王建明、丁晓亮</span></li>\n",
      "<li><p>起草单位：</p><span>中国石油化工股份有限公司石油化工科学研究院、中国石油天然气股份有限公司石油化工研究院、中国汽车技术研究中心</span></li>\n",
      "<li><p>归口单位：</p><span>全国石油产品和润滑剂标准化技术委员会石油燃料和润滑剂分技术委员会(SAC/TC 280/SC1)</span></li>\n",
      "<li><p>提出部门：</p><span>全国石油产品和润滑剂标准化技术委员会(SAC/TC 280)</span></li>\n",
      "<li><p>发布部门：</p><span>中华人民共和国国家质量监督检验检疫总局、中国国家标准化管理委员会</span></li>\n",
      "</ul>]\n"
     ]
    }
   ],
   "source": [
    "print(soup.findAll('ul',{'class':'detailedinfo-content-collapse'}))"
   ]
  },
  {
   "cell_type": "code",
   "execution_count": 47,
   "metadata": {
    "collapsed": true
   },
   "outputs": [],
   "source": [
    "l=map(lambda s :s.get_text(strip=True),soup.findAll('ul',{'class':'detailedinfo-content-collapse'}))"
   ]
  },
  {
   "cell_type": "code",
   "execution_count": 48,
   "metadata": {
    "collapsed": false
   },
   "outputs": [
    {
     "data": {
      "text/plain": [
       "['标准号：GB 17930-2013标准名称：车用汽油英文名称：Gasoline for motor vehicles标准状态：现行首发日期：1999-12-28发布日期：2013-12-18实施日期：2013-12-18出版语种：中文简体',\n",
       " '标准ICS号：75.160.20中标分类号：E31',\n",
       " '替代以下标准：被以下标准替代：引用标准：采用标准：采标名称：采标程度：',\n",
       " '页数：12 页字数：18 千字开本：大16 开版次：1彩页数：0插页数：0有无电子版：有有无彩色图片：无纸质版出版日期：2013-12-18',\n",
       " '有无修改单：无修改单备注：',\n",
       " '标准类型：CN标准属性：GB标准编号：17930起草人：倪蓓、龙军、李文乐、张建荣、张彦、陆红雨、郭莘、陈效红、张永光、顾惠明、王治春、王琳、陈延、王建明、丁晓亮起草单位：中国石油化工股份有限公司石油化工科学研究院、中国石油天然气股份有限公司石油化工研究院、中国汽车技术研究中心归口单位：全国石油产品和润滑剂标准化技术委员会石油燃料和润滑剂分技术委员会(SAC/TC 280/SC1)提出部门：全国石油产品和润滑剂标准化技术委员会(SAC/TC 280)发布部门：中华人民共和国国家质量监督检验检疫总局、中国国家标准化管理委员会']"
      ]
     },
     "execution_count": 48,
     "metadata": {},
     "output_type": "execute_result"
    }
   ],
   "source": [
    "list(l)"
   ]
  },
  {
   "cell_type": "code",
   "execution_count": 39,
   "metadata": {
    "collapsed": true
   },
   "outputs": [],
   "source": [
    "pattern=re.compile(r'(标准号\\tStandard No.|中文标准名称\\tStandard Title in Chinese|英文标准名称\\tStandard Title in English|' \\\n",
    "'发布日期\\tIssuance Date|实施日期\\tExecute Date|首次发布日期\\tFirst Issuance Date|标准状态\\tStandard State|' \\\n",
    "'复审确认日期\\tReview Affirmance Date|计划编号\\tPlan No.|代替国标号\\tReplaced Standard|'\\\n",
    "'被代替国标号\\tReplaced Standard|废止时间\\tRevocatory Date|采用国际标准号\\tAdopted International Standard No.|'\n",
    "'采标名称\\tAdopted International Standard Name|采用程度\\tApplication Degree|' \\\n",
    "'采用国际标准\\tAdopted International Standard|''国际标准分类号\\t(ICS)|' \\\n",
    "'中国标准分类号\\t\\(CCS\\)|标准类别\\tStandard Sort|标准页码\\tNumber of Pages|' \\\n",
    "'标准价格\\(元\\)\\tPrice\\(￥\\)|主管部门\\tGovernor|' \\\n",
    "'归口单位\\tTechnical Committees|起草单位\\tDrafting Committee)'\\\n",
    "'\\t?')"
   ]
  },
  {
   "cell_type": "code",
   "execution_count": 40,
   "metadata": {
    "collapsed": true
   },
   "outputs": [],
   "source": [
    "result=[]\n",
    "result_list=[]"
   ]
  },
  {
   "cell_type": "code",
   "execution_count": 41,
   "metadata": {
    "collapsed": false
   },
   "outputs": [],
   "source": [
    "for content in contents:\n",
    "    result.extend(re.split(pattern,content))\n",
    "    result_list.extend(re.findall(pattern,content))"
   ]
  },
  {
   "cell_type": "code",
   "execution_count": 43,
   "metadata": {
    "collapsed": false
   },
   "outputs": [
    {
     "ename": "SyntaxError",
     "evalue": "invalid character in identifier (<ipython-input-43-157ced26b9a7>, line 1)",
     "output_type": "error",
     "traceback": [
      "\u001b[1;36m  File \u001b[1;32m\"<ipython-input-43-157ced26b9a7>\"\u001b[1;36m, line \u001b[1;32m1\u001b[0m\n\u001b[1;33m    for k,v in zip(result_list，result):\u001b[0m\n\u001b[1;37m                                    ^\u001b[0m\n\u001b[1;31mSyntaxError\u001b[0m\u001b[1;31m:\u001b[0m invalid character in identifier\n"
     ]
    }
   ],
   "source": [
    "for k,v in zip(result_list，result):\n",
    "    print(k,v)"
   ]
  },
  {
   "cell_type": "code",
   "execution_count": null,
   "metadata": {
    "collapsed": true
   },
   "outputs": [],
   "source": []
  },
  {
   "cell_type": "code",
   "execution_count": null,
   "metadata": {
    "collapsed": true
   },
   "outputs": [],
   "source": []
  }
 ],
 "metadata": {
  "kernelspec": {
   "display_name": "Python [Root]",
   "language": "python",
   "name": "Python [Root]"
  },
  "language_info": {
   "codemirror_mode": {
    "name": "ipython",
    "version": 3
   },
   "file_extension": ".py",
   "mimetype": "text/x-python",
   "name": "python",
   "nbconvert_exporter": "python",
   "pygments_lexer": "ipython3",
   "version": "3.5.2"
  }
 },
 "nbformat": 4,
 "nbformat_minor": 0
}
