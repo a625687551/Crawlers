{
 "cells": [
  {
   "cell_type": "code",
   "execution_count": 1,
   "metadata": {
    "collapsed": true
   },
   "outputs": [],
   "source": [
    "import requests\n",
    "import re\n",
    "import time\n",
    "import http.cookiejar as cookielib\n",
    "import numpy as np\n",
    "from selenium import webdriver\n",
    "from bs4 import BeautifulSoup"
   ]
  },
  {
   "cell_type": "code",
   "execution_count": 2,
   "metadata": {
    "collapsed": true
   },
   "outputs": [],
   "source": [
    "#构造request headers\n",
    "agent='Mozilla/5.0 (Windows NT 6.1; WOW64) AppleWebKit/537.36 (KHTML, like Gecko) Chrome/45.0.2454.101 Safari/537.36'\n",
    "headers={\n",
    "    \"Host\": \"www.zhihu.com\",\n",
    "    \"Referer\": \"https://www.zhihu.com/\",\n",
    "    'User-Agent': agent\n",
    "}"
   ]
  },
  {
   "cell_type": "code",
   "execution_count": 26,
   "metadata": {
    "collapsed": false,
    "scrolled": true
   },
   "outputs": [],
   "source": [
    " def User_login():\n",
    "        userName = str(18665961559)\n",
    "        password = '066530'\n",
    "        req_time = int(time.time()*1000)\n",
    "        #post_url='https://uac.10010.com/oauth2/new_auth'+'?req_time='+req_time\n",
    "        post_url = 'https://uac.10010.com/portal/Service/MallLogin?callback=jQuery17209332841114299033_1479866742319&req_time='+str(req_time)+'&redirectURL=http://www.10010.com&userName='+userName+'&password='+password+'&pwdType=01&productType=01&redirectType=01&rememberMe=1&_='+str(req_time+1)\n",
    "        #post_data = {'userName': '18665961559','userPwd': '066530' }\n",
    "#         r=requests.post(post_url,data=post_data,headers=headers)\n",
    "        r =requests.get(post_url,headers = headers)\n",
    "        cookies=r.cookies\n",
    "        print(cookies,r.status_code,r.text)\n",
    "        return cookies"
   ]
  },
  {
   "cell_type": "code",
   "execution_count": 22,
   "metadata": {
    "collapsed": false
   },
   "outputs": [
    {
     "name": "stdout",
     "output_type": "stream",
     "text": [
      "<RequestsCookieJar[]> 200 jQuery17209332841114299033_1479866742319({resultCode:\"0000\",redirectURL:\"http://www.10010.com\"});\n"
     ]
    },
    {
     "data": {
      "text/plain": [
       "<RequestsCookieJar[]>"
      ]
     },
     "execution_count": 22,
     "metadata": {},
     "output_type": "execute_result"
    }
   ],
   "source": [
    "User_login()"
   ]
  },
  {
   "cell_type": "code",
   "execution_count": 27,
   "metadata": {
    "collapsed": false
   },
   "outputs": [
    {
     "data": {
      "text/plain": [
       "<RequestsCookieJar[]>"
      ]
     },
     "execution_count": 27,
     "metadata": {},
     "output_type": "execute_result"
    }
   ],
   "source": [
    "req_time = np.int(time.time()*1000)\n",
    "userName = str(18665961559)\n",
    "password = '066530'\n",
    "url = 'https://uac.10010.com/portal/Service/MallLogin?callback=jQuery17209332841114299033_1479866742319&req_time='+str(req_time)+'&redirectURL=http://www.10010.com&userName='+userName+'&password='+password+'&pwdType=01&productType=01&redirectType=01&rememberMe=1&_='+str(req_time+1)\n",
    "r =requests.get(url,headers = headers)\n",
    "r.text\n",
    "r.cookies\n"
   ]
  },
  {
   "cell_type": "code",
   "execution_count": 28,
   "metadata": {
    "collapsed": false
   },
   "outputs": [
    {
     "data": {
      "text/plain": [
       "<RequestsCookieJar[]>"
      ]
     },
     "execution_count": 28,
     "metadata": {},
     "output_type": "execute_result"
    }
   ],
   "source": [
    "r.cookies"
   ]
  },
  {
   "cell_type": "code",
   "execution_count": 29,
   "metadata": {
    "collapsed": false
   },
   "outputs": [
    {
     "data": {
      "text/plain": [
       "'jQuery17209332841114299033_1479866742319({resultCode:\"0000\",redirectURL:\"http://www.10010.com\"});'"
      ]
     },
     "execution_count": 29,
     "metadata": {},
     "output_type": "execute_result"
    }
   ],
   "source": [
    "r.text"
   ]
  },
  {
   "cell_type": "code",
   "execution_count": 6,
   "metadata": {
    "collapsed": true
   },
   "outputs": [],
   "source": [
    "t=time.time()"
   ]
  },
  {
   "cell_type": "code",
   "execution_count": 7,
   "metadata": {
    "collapsed": false
   },
   "outputs": [
    {
     "name": "stdout",
     "output_type": "stream",
     "text": [
      "1479957988315.226 1479957989315.226\n"
     ]
    }
   ],
   "source": [
    "print(t*1000,(t+1)*1000)"
   ]
  },
  {
   "cell_type": "code",
   "execution_count": null,
   "metadata": {
    "collapsed": true
   },
   "outputs": [],
   "source": []
  }
 ],
 "metadata": {
  "kernelspec": {
   "display_name": "Python [Root]",
   "language": "python",
   "name": "Python [Root]"
  },
  "language_info": {
   "codemirror_mode": {
    "name": "ipython",
    "version": 3
   },
   "file_extension": ".py",
   "mimetype": "text/x-python",
   "name": "python",
   "nbconvert_exporter": "python",
   "pygments_lexer": "ipython3",
   "version": "3.5.2"
  }
 },
 "nbformat": 4,
 "nbformat_minor": 0
}
