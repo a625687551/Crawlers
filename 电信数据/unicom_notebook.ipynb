{
 "cells": [
  {
   "cell_type": "code",
   "execution_count": 2,
   "metadata": {
    "collapsed": true
   },
   "outputs": [],
   "source": [
    "import requests\n",
    "import re\n",
    "import time\n",
    "import http.cookiejar as cookielib\n",
    "import numpy as np\n",
    "from selenium import webdriver\n",
    "from bs4 import BeautifulSoup"
   ]
  },
  {
   "cell_type": "code",
   "execution_count": 25,
   "metadata": {
    "collapsed": true
   },
   "outputs": [],
   "source": [
    "post_data={\n",
    "    '_xsrf':'f4beaa5a37a89ae6aea1b62b81dafae0',\n",
    "    'password':'a024464',\n",
    "    'captcha_type':'cn',\n",
    "    'email':'625687551@qq.com'\n",
    "}\n",
    "post_url='https://www.zhihu.com/login/email'"
   ]
  },
  {
   "cell_type": "code",
   "execution_count": 26,
   "metadata": {
    "collapsed": false,
    "scrolled": true
   },
   "outputs": [],
   "source": [
    "headers={'User-Agent':'Mozilla/5.0 (Windows NT 6.1; Win64; x64) AppleWebKit/537.36 (KHTML, like Gecko) Chrome/52.0.2743.82 Safari/537.36'}"
   ]
  },
  {
   "cell_type": "code",
   "execution_count": 27,
   "metadata": {
    "collapsed": true
   },
   "outputs": [],
   "source": [
    "s=requests.session()"
   ]
  },
  {
   "cell_type": "code",
   "execution_count": 17,
   "metadata": {
    "collapsed": false
   },
   "outputs": [],
   "source": [
    "r=s.post(post_url,data=post_data,headers=headers)"
   ]
  },
  {
   "cell_type": "code",
   "execution_count": 18,
   "metadata": {
    "collapsed": false
   },
   "outputs": [
    {
     "data": {
      "text/plain": [
       "{'msg': '登录成功', 'r': 0}"
      ]
     },
     "execution_count": 18,
     "metadata": {},
     "output_type": "execute_result"
    }
   ],
   "source": [
    "r.json()"
   ]
  },
  {
   "cell_type": "code",
   "execution_count": 20,
   "metadata": {
    "collapsed": false
   },
   "outputs": [],
   "source": [
    "p=s.get('https://www.zhihu.com/settings/profile',headers=headers)"
   ]
  },
  {
   "cell_type": "code",
   "execution_count": 24,
   "metadata": {
    "collapsed": false
   },
   "outputs": [
    {
     "data": {
      "text/plain": [
       "'<!DOCTYPE html>\\n<html lang=\"zh-CN\" class=\"\">\\n<head>\\n<meta charset=\"utf-8\">\\n<meta name=\"apple-itunes-app\" content=\"app-id=432274380\">\\n<meta http-equiv=\"X-UA-Compatible\" content=\"IE=edge,chrome=1\" />\\n<meta name=\"renderer\" content=\"webkit\" />\\n<meta name=\"description\" content=\"一个真实的网络问答社区，帮助你寻找答案，分享知识。\"/>\\n<meta name=\"viewport\" content=\"user-scalable=no, width=device-width, initial-scale=1.0, maximum-scale=1.0\"/>\\n<title>知乎 - 与世界分享你的知识、经验和见解</title>\\n\\n\\n\\n<link rel=\"apple-touch-icon\" href=\"https://static.zhihu.com/static/revved/img/ios/touch-icon-152.87c020b9.png\" sizes=\"152x152\">\\n<link rel=\"apple-touch-icon\" href=\"https://static.zhihu.com/static/revved/img/ios/touch-icon-120.496c913b.png\" sizes=\"120x120\">\\n<link rel=\"apple-touch-icon\" href=\"https://static.zhihu.com/static/revved/img/ios/touch-icon-76.dcf79352.png\" sizes=\"76x76\">\\n<link rel=\"apple-touch-icon\" href=\"https://static.zhihu.com/static/revved/img/ios/touch-icon-60.9911cffb.png\" sizes=\"60x60\">\\n\\n<link rel=\"shortcut icon\" href=\"https://static.zhihu.com/static/favicon.ico\" type=\"image/x-icon\" />\\n<link rel=\"dns-prefetch\" href=\"p1.zhimg.com\"/>\\n<link rel=\"dns-prefetch\" href=\"p2.zhimg.com\"/>\\n<link rel=\"dns-prefetch\" href=\"p3.zhimg.com\"/>\\n<link rel=\"dns-prefetch\" href=\"p4.zhimg.com\"/>\\n<link rel=\"dns-prefetch\" href=\"comet.zhihu.com\"/>\\n<link rel=\"dns-prefetch\" href=\"static.zhihu.com\"/>\\n<link rel=\"dns-prefetch\" href=\"upload.zhihu.com\"/>\\n<link rel=\"stylesheet\" href=\"https://static.zhihu.com/static/revved/-/css/pages/unlogin-index/main.c1c8e058.css\">\\n<meta name=\"google-site-verification\" content=\"FTeR0c8arOPKh8c5DYh_9uu98_zJbaWw53J-Sch9MTg\" />\\n<meta name=\"baidu-site-verification\" content=\"KPFppAFoYF4Kkdv9\" />\\n<meta property=\"qc:admins\" content=\"00544670776201056375\" />\\n<link rel=\"canonical\" href=\"http://www.zhihu.com\" />\\n<meta id=\"znonce\" name=\"znonce\" content=\"2cb5dde92aaa4fe6b6114424e94384ce\">\\n<!--[if lt IE 9]>\\n<script src=\"https://static.zhihu.com/static/components/respond/dest/respond.min.js\"></script>\\n<link href=\"https://static.zhihu.com/static/components/respond/cross-domain/respond-proxy.html\" id=\"respond-proxy\" rel=\"respond-proxy\" />\\n<link href=\"/static/components/respond/cross-domain/respond.proxy.gif\" id=\"respond-redirect\" rel=\"respond-redirect\" />\\n<script src=\"/static/components/respond/cross-domain/respond.proxy.js\"></script>\\n<![endif]-->\\n<script src=\"https://static.zhihu.com/static/revved/-/js/instant.14757a4a.js\"></script>\\n</head>\\n<body class=\"zhi \">\\n\\n\\n\\n<div class=\"index-main\">\\n<div class=\"index-main-body\">\\n<div class=\"index-header\">\\n\\n<h1 class=\"logo hide-text\">知乎</h1>\\n\\n<h2 class=\"subtitle\">与世界分享你的知识、经验和见解</h2>\\n</div>\\n\\n<div class=\"desk-front sign-flow clearfix sign-flow-simple\">\\n\\n<div class=\"index-tab-navs\">\\n<div class=\"navs-slider\">\\n<a href=\"#signup\" class=\"active\">注册</a>\\n<a href=\"#signin\">登录</a>\\n<span class=\"navs-slider-bar\"></span>\\n</div>\\n</div>\\n\\n\\n\\n<div class=\"view view-signin\" data-za-module=\"SMSSignInForm\">\\n<form method=\"POST\">\\n<input type=\"hidden\" name=\"_xsrf\" value=\"e74c459b984fd456a28d49d5746a9209\"/>\\n<div class=\"group-inputs\">\\n\\n<div class=\"account input-wrapper\">\\n\\n\\n<input type=\"number\" name=\"account\" aria-label=\"手机号\" placeholder=\"手机号\" required>\\n</div>\\n<div class=\"verification sms-verification input-wrapper\">\\n\\n<input type=\"number\" name=\"verification_code\" aria-label=\"短信验证码\" placeholder=\"短信验证码\" maxlength=\"6\" required /><button type=\"button\" class=\"send-code-button\">获取验证码</button>\\n\\n</div>\\n\\n<div class=\"Captcha input-wrapper\" data-type=\"cn\" data-za-module=\"Captcha\">\\n<div class=\"Captcha-operate\">\\n<input type=\"hidden\" name=\"captcha\" required data-rule-required=\"true\" data-msg-required=\"请点击图中倒立的文字\">\\n<input type=\"hidden\" name=\"captcha_type\" value=\"cn\" required>\\n<label class=\"Captcha-prompt\">请点击图中倒立的文字</label>\\n<span class=\"Captcha-refresh js-refreshCaptcha sprite-index-icon-refresh\"></span>\\n</div>\\n<div class=\"Captcha-imageConatiner\">\\n<img class=\"Captcha-image\" alt=\"验证码\" >\\n</div>\\n</div>\\n\\n</div>\\n<div class=\"button-wrapper command\">\\n<button class=\"sign-button submit\" type=\"submit\">登录</button>\\n</div>\\n<div class=\"signin-misc-wrapper clearfix\">\\n\\n<button type=\"button\" class=\"signin-switch-button\">密码登录（手机号或邮箱）</button>\\n\\n<a class=\"unable-login\" href=\"#\">无法登录？</a>\\n</div>\\n\\n<div class=\"social-signup-wrapper\" data-za-module=\"SNSSignIn\">\\n<span class=\"name js-toggle-sns-buttons\">社交帐号登录</span>\\n\\n<div class=\"sns-buttons\">\\n<a title=\"微信登录\" class=\"js-bindwechat\" href=\"#\"><i class=\"sprite-index-icon-wechat\"></i></a>\\n<a title=\"微博登录\" class=\"js-bindweibo\" href=\"#\"><i class=\"sprite-index-icon-weibo\"></i></a>\\n<a title=\"QQ 登录\" class=\"js-bindqq\" href=\"#\"><i class=\"sprite-index-icon-qq\"></i></a>\\n</div>\\n\\n\\n</div>\\n\\n</form>\\n\\n<div class=\"QRCode\">\\n<button class=\"QRCode-toggleButton\">\\n<span class=\"sprite-global-icon-qrcode\"></span>\\n<span class=\"QRCode-toggleButtonText \">下载知乎 App</span>\\n</button>\\n<div class=\"QRCode-card\">\\n<div class=\"QRCode-image\"></div>\\n<div class=\"sprite-index-icon-arrow\"></div>\\n</div>\\n</div>\\n\\n\\n</div>\\n<div class=\"view view-signup selected\" data-za-module=\"SignUpForm\">\\n<form class=\"zu-side-login-box\" action=\"/register/email\" id=\"sign-form-1\" autocomplete=\"off\" method=\"POST\">\\n<input type=\"password\" hidden> \\n<input type=\"hidden\" name=\"_xsrf\" value=\"e74c459b984fd456a28d49d5746a9209\"/>\\n<div class=\"group-inputs\">\\n\\n\\n<div class=\"name input-wrapper\">\\n<input required type=\"text\" name=\"fullname\" aria-label=\"姓名\" placeholder=\"姓名\">\\n</div>\\n<div class=\"email input-wrapper\">\\n\\n<input required type=\"text\" class=\"account\" name=\"phone_num\" aria-label=\"手机号（仅支持中国大陆）\" placeholder=\"手机号（仅支持中国大陆）\">\\n\\n</div>\\n\\n<div class=\"input-wrapper\">\\n<input required type=\"password\" name=\"password\" aria-label=\"密码\" placeholder=\"密码（不少于 6 位）\" autocomplete=\"off\">\\n</div>\\n\\n<div class=\"input-wrapper captcha-module\" data-type=\"en\" >\\n<input id=\"captcha\" name=\"captcha\" placeholder=\"验证码\" required data-rule-required=\"true\" data-msg-required=\"请填写验证码\">\\n<div class=\"captcha-container\">\\n\\n<img class=\"js-refreshCaptcha captcha\" width=\"120\" height=\"30\" data-tooltip=\"s$t$看不清楚？换一张\"  alt=\"验证码\">\\n</div>\\n</div>\\n\\n</div>\\n<div class=\"button-wrapper command\">\\n<button class=\"sign-button submit\" type=\"submit\">注册知乎</button>\\n</div>\\n</form>\\n\\n<p class=\"agreement-tip\">点击「注册」按钮，即代表你同意<a href=\"/terms\" target=\"_blank\">《知乎协议》</a></p>\\n\\n<div class=\"QRCode\">\\n<button class=\"QRCode-toggleButton\">\\n<span class=\"sprite-global-icon-qrcode\"></span>\\n<span class=\"QRCode-toggleButtonText \">下载知乎 App</span>\\n</button>\\n<div class=\"QRCode-card\">\\n<div class=\"QRCode-image\"></div>\\n<div class=\"sprite-index-icon-arrow\"></div>\\n</div>\\n</div>\\n\\n\\n\\n</div>\\n</div>\\n</div>\\n\\n</div>\\n<div class=\"footer\">\\n\\n<span>&copy; 2016 知乎</span>\\n<span class=\"dot\">·</span>\\n<a target=\"_blank\" href=\"/roundtable\">知乎圆桌</a>\\n<span class=\"dot\">·</span>\\n<a target=\"_blank\" href=\"/explore\" data-za-c=\"explore\" data-za-a=\"visit_explore\" data-za-l=\"home_bottom_explore\">发现</a>\\n<span class=\"dot\">·</span>\\n<a target=\"_blank\" href=\"/app\">移动应用</a>\\n<span class=\"dot\">·</span>\\n\\n\\n<a href=\"/org/signin\" class=\"footer-mobile-show\">使用机构帐号登录</a>\\n\\n<span class=\"dot footer-mobile-show\">·</span>\\n\\n<a href=\"/contact\" class=\"footer-mobile-show\">联系我们</a>\\n<span class=\"dot\">·</span>\\n<a target=\"_blank\" href=\"/careers\">来知乎工作</a>\\n<br />\\n<a href=\"http://www.miibeian.gov.cn/\" target=\"_blank\">京 ICP 13052560 号</a>\\n<span class=\"dot\">·</span>\\n<span>京公网安备 11010802010035 号</span>\\n<span class=\"dot\">·</span>\\n<a href=\"http://zhstatic.zhihu.com/assets/zhihu/publish-license.jpg\" target=\"_blank\">出版物经营许可证</a>\\n\\n</div>\\n\\n\\n\\n<script type=\"text/json\" class=\"json-inline\" data-name=\"disabled_components\">[\"back_to_top\"]</script>\\n<script type=\"text/json\" class=\"json-inline\" data-name=\"current_user\">[\"\",\"\",\"\",\"-1\",\"\",0,0]</script>\\n<script type=\"text/json\" class=\"json-inline\" data-name=\"env\">[\"zhihu.com\",\"comet.zhihu.com\",false,null,false,false]</script>\\n\\n<script type=\"text/json\" class=\"json-inline\" data-name=\"ga_vars\">{\"user_created\":0,\"now\":1480168334000,\"abtest_mask\":\"------------------------------\",\"user_attr\":[0,0,0,\"-\",\"-\"],\"user_hash\":0}</script>\\n\\n<script src=\"https://static.zhihu.com/static/revved/-/js/vendor.cb14a042.js\"></script>\\n<script src=\"https://static.zhihu.com/static/revved/-/js/closure/base.6c1e298e.js\"></script>\\n\\n<script src=\"https://static.zhihu.com/static/revved/-/js/closure/common.380e5029.js\"></script>\\n<script src=\"https://static.zhihu.com/static/revved/-/js/closure/page-index.bc0c2cdf.js\"></script>\\n<meta name=\"entry\" content=\"ZH.entrySignPage\" data-module-id=\"page-index\">\\n\\n\\n<input type=\"hidden\" name=\"_xsrf\" value=\"e74c459b984fd456a28d49d5746a9209\"/>\\n</body>\\n</html>'"
      ]
     },
     "execution_count": 24,
     "metadata": {},
     "output_type": "execute_result"
    }
   ],
   "source": [
    "p.text"
   ]
  },
  {
   "cell_type": "code",
   "execution_count": 6,
   "metadata": {
    "collapsed": true
   },
   "outputs": [],
   "source": [
    ""
   ]
  },
  {
   "cell_type": "code",
   "execution_count": 7,
   "metadata": {
    "collapsed": false
   },
   "outputs": [
    {
     "name": "stdout",
     "output_type": "stream",
     "text": [
      "1479957988315.226 1479957989315.226\n"
     ]
    }
   ],
   "source": [
    ""
   ]
  },
  {
   "cell_type": "code",
   "execution_count": null,
   "metadata": {
    "collapsed": true
   },
   "outputs": [],
   "source": [
    ""
   ]
  }
 ],
 "metadata": {
  "kernelspec": {
   "display_name": "Python [Root]",
   "language": "python",
   "name": "Python [Root]"
  },
  "language_info": {
   "codemirror_mode": {
    "name": "ipython",
    "version": 3.0
   },
   "file_extension": ".py",
   "mimetype": "text/x-python",
   "name": "python",
   "nbconvert_exporter": "python",
   "pygments_lexer": "ipython3",
   "version": "3.5.2"
  }
 },
 "nbformat": 4,
 "nbformat_minor": 0
}